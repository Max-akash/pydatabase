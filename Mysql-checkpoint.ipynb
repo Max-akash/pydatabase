{
 "cells": [
  {
   "cell_type": "code",
   "execution_count": 1,
   "id": "8af2b666",
   "metadata": {},
   "outputs": [],
   "source": [
    "import mysql.connector as con"
   ]
  },
  {
   "cell_type": "code",
   "execution_count": 2,
   "id": "fb589f08",
   "metadata": {},
   "outputs": [
    {
     "name": "stdout",
     "output_type": "stream",
     "text": [
      "<mysql.connector.connection_cext.CMySQLConnection object at 0x0000021F843B07C0>\n"
     ]
    }
   ],
   "source": [
    "import mysql.connector as con\n",
    "new_db =con.connect(\n",
    "    host =\"localhost\",\n",
    "    user =\"root\",\n",
    "    password =\"root\",\n",
    ")\n",
    "print(new_db)\n"
   ]
  },
  {
   "cell_type": "markdown",
   "id": "d0ec0586",
   "metadata": {},
   "source": [
    "# creating data base"
   ]
  },
  {
   "cell_type": "code",
   "execution_count": null,
   "id": "78f3f145",
   "metadata": {},
   "outputs": [],
   "source": [
    "new_db =con.connector(\n",
    "    host =\"localhost\",\n",
    "    user =\"root\",\n",
    "    password =\"root\",\n",
    ")\n",
    "my_cursor =new_db.cursor()\n",
    "my_cursor.ex"
   ]
  }
 ],
 "metadata": {
  "kernelspec": {
   "display_name": "Python 3 (ipykernel)",
   "language": "python",
   "name": "python3"
  },
  "language_info": {
   "codemirror_mode": {
    "name": "ipython",
    "version": 3
   },
   "file_extension": ".py",
   "mimetype": "text/x-python",
   "name": "python",
   "nbconvert_exporter": "python",
   "pygments_lexer": "ipython3",
   "version": "3.9.12"
  }
 },
 "nbformat": 4,
 "nbformat_minor": 5
}
